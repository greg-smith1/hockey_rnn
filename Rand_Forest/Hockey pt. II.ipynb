{
 "cells": [
  {
   "cell_type": "code",
   "execution_count": 1,
   "metadata": {},
   "outputs": [],
   "source": [
    "%matplotlib inline"
   ]
  },
  {
   "cell_type": "code",
   "execution_count": 398,
   "metadata": {},
   "outputs": [],
   "source": [
    "import pandas as pd\n",
    "import numpy as np\n",
    "import matplotlib.pyplot as plt\n",
    "import csv\n",
    "import pydot\n",
    "import graphviz\n",
    "from sklearn.tree import export_graphviz\n",
    "from sklearn.model_selection import train_test_split\n",
    "from sklearn.ensemble import RandomForestRegressor\n",
    "from collections import Counter\n",
    "from tqdm import tqdm"
   ]
  },
  {
   "cell_type": "code",
   "execution_count": 43,
   "metadata": {},
   "outputs": [],
   "source": [
    "nhl_data = pd.read_csv('nhl_seasonal_data.csv')"
   ]
  },
  {
   "cell_type": "code",
   "execution_count": 44,
   "metadata": {},
   "outputs": [],
   "source": [
    "nhl_data = nhl_data.drop(columns=['Unnamed: 0', 'Team'])"
   ]
  },
  {
   "cell_type": "code",
   "execution_count": 45,
   "metadata": {},
   "outputs": [
    {
     "data": {
      "text/html": [
       "<div>\n",
       "<style scoped>\n",
       "    .dataframe tbody tr th:only-of-type {\n",
       "        vertical-align: middle;\n",
       "    }\n",
       "\n",
       "    .dataframe tbody tr th {\n",
       "        vertical-align: top;\n",
       "    }\n",
       "\n",
       "    .dataframe thead th {\n",
       "        text-align: right;\n",
       "    }\n",
       "</style>\n",
       "<table border=\"1\" class=\"dataframe\">\n",
       "  <thead>\n",
       "    <tr style=\"text-align: right;\">\n",
       "      <th></th>\n",
       "      <th>A</th>\n",
       "      <th>Age</th>\n",
       "      <th>Full Name</th>\n",
       "      <th>G</th>\n",
       "      <th>GP</th>\n",
       "      <th>PTS</th>\n",
       "      <th>Pos</th>\n",
       "      <th>Season</th>\n",
       "    </tr>\n",
       "  </thead>\n",
       "  <tbody>\n",
       "    <tr>\n",
       "      <th>0</th>\n",
       "      <td>1</td>\n",
       "      <td>20.0</td>\n",
       "      <td>A.J. Greer</td>\n",
       "      <td>0</td>\n",
       "      <td>5</td>\n",
       "      <td>1</td>\n",
       "      <td>LW</td>\n",
       "      <td>2016-17</td>\n",
       "    </tr>\n",
       "    <tr>\n",
       "      <th>1</th>\n",
       "      <td>3</td>\n",
       "      <td>21.0</td>\n",
       "      <td>A.J. Greer</td>\n",
       "      <td>0</td>\n",
       "      <td>17</td>\n",
       "      <td>3</td>\n",
       "      <td>LW</td>\n",
       "      <td>2017-18</td>\n",
       "    </tr>\n",
       "    <tr>\n",
       "      <th>2</th>\n",
       "      <td>0</td>\n",
       "      <td>20.0</td>\n",
       "      <td>Aaron Broten</td>\n",
       "      <td>0</td>\n",
       "      <td>2</td>\n",
       "      <td>0</td>\n",
       "      <td>LW</td>\n",
       "      <td>1980-81</td>\n",
       "    </tr>\n",
       "    <tr>\n",
       "      <th>3</th>\n",
       "      <td>24</td>\n",
       "      <td>21.0</td>\n",
       "      <td>Aaron Broten</td>\n",
       "      <td>15</td>\n",
       "      <td>58</td>\n",
       "      <td>39</td>\n",
       "      <td>LW</td>\n",
       "      <td>1981-82</td>\n",
       "    </tr>\n",
       "    <tr>\n",
       "      <th>4</th>\n",
       "      <td>39</td>\n",
       "      <td>22.0</td>\n",
       "      <td>Aaron Broten</td>\n",
       "      <td>16</td>\n",
       "      <td>73</td>\n",
       "      <td>55</td>\n",
       "      <td>C</td>\n",
       "      <td>1982-83</td>\n",
       "    </tr>\n",
       "  </tbody>\n",
       "</table>\n",
       "</div>"
      ],
      "text/plain": [
       "    A   Age     Full Name   G  GP  PTS Pos   Season\n",
       "0   1  20.0    A.J. Greer   0   5    1  LW  2016-17\n",
       "1   3  21.0    A.J. Greer   0  17    3  LW  2017-18\n",
       "2   0  20.0  Aaron Broten   0   2    0  LW  1980-81\n",
       "3  24  21.0  Aaron Broten  15  58   39  LW  1981-82\n",
       "4  39  22.0  Aaron Broten  16  73   55   C  1982-83"
      ]
     },
     "execution_count": 45,
     "metadata": {},
     "output_type": "execute_result"
    }
   ],
   "source": [
    "#nhl_data = pd.get_dummies(nhl_data, columns=['Pos'])\n",
    "nhl_data.head()"
   ]
  },
  {
   "cell_type": "code",
   "execution_count": 46,
   "metadata": {},
   "outputs": [],
   "source": [
    "positions = nhl_data['Pos']"
   ]
  },
  {
   "cell_type": "code",
   "execution_count": 47,
   "metadata": {},
   "outputs": [
    {
     "name": "stdout",
     "output_type": "stream",
     "text": [
      "Counter({'D': 12954, 'C': 9125, 'LW': 7916, 'RW': 7472, nan: 88, 'LW/C': 27, 'C/LW': 21, 'C/RW': 16, 'RW/C': 15, 'LW/RW': 11, 'RW/LW': 6, 'RW/LW/C': 1, 'LW/RW/C': 1})\n"
     ]
    }
   ],
   "source": [
    "counts = Counter(positions)\n",
    "print(counts)"
   ]
  },
  {
   "cell_type": "code",
   "execution_count": 48,
   "metadata": {},
   "outputs": [
    {
     "name": "stderr",
     "output_type": "stream",
     "text": [
      "  0%|          | 0/37653 [00:00<?, ?it/s]/Library/Frameworks/Python.framework/Versions/3.6/lib/python3.6/site-packages/ipykernel_launcher.py:2: SettingWithCopyWarning: \n",
      "A value is trying to be set on a copy of a slice from a DataFrame\n",
      "\n",
      "See the caveats in the documentation: http://pandas.pydata.org/pandas-docs/stable/indexing.html#indexing-view-versus-copy\n",
      "  \n",
      "100%|██████████| 37653/37653 [1:32:02<00:00,  6.82it/s]\n"
     ]
    }
   ],
   "source": [
    "#for _ in tqdm(range(len(nhl_data['Season']))):\n",
    "#    nhl_data['Season'][_] = int(nhl_data['Season'][_][:4])"
   ]
  },
  {
   "cell_type": "code",
   "execution_count": 50,
   "metadata": {},
   "outputs": [],
   "source": [
    "#nhl_data.to_csv('revised_nhl.csv')"
   ]
  },
  {
   "cell_type": "code",
   "execution_count": 117,
   "metadata": {},
   "outputs": [],
   "source": [
    "nhl_data_rev = pd.read_csv('revised_nhl.csv')"
   ]
  },
  {
   "cell_type": "code",
   "execution_count": 118,
   "metadata": {},
   "outputs": [
    {
     "data": {
      "text/html": [
       "<div>\n",
       "<style scoped>\n",
       "    .dataframe tbody tr th:only-of-type {\n",
       "        vertical-align: middle;\n",
       "    }\n",
       "\n",
       "    .dataframe tbody tr th {\n",
       "        vertical-align: top;\n",
       "    }\n",
       "\n",
       "    .dataframe thead th {\n",
       "        text-align: right;\n",
       "    }\n",
       "</style>\n",
       "<table border=\"1\" class=\"dataframe\">\n",
       "  <thead>\n",
       "    <tr style=\"text-align: right;\">\n",
       "      <th></th>\n",
       "      <th>A</th>\n",
       "      <th>Age</th>\n",
       "      <th>Full_Name</th>\n",
       "      <th>G</th>\n",
       "      <th>GP</th>\n",
       "      <th>PTS</th>\n",
       "      <th>Pos</th>\n",
       "      <th>Season</th>\n",
       "    </tr>\n",
       "  </thead>\n",
       "  <tbody>\n",
       "    <tr>\n",
       "      <th>0</th>\n",
       "      <td>1</td>\n",
       "      <td>20</td>\n",
       "      <td>A.J. Greer</td>\n",
       "      <td>0</td>\n",
       "      <td>5</td>\n",
       "      <td>1</td>\n",
       "      <td>LW</td>\n",
       "      <td>2016</td>\n",
       "    </tr>\n",
       "    <tr>\n",
       "      <th>1</th>\n",
       "      <td>3</td>\n",
       "      <td>21</td>\n",
       "      <td>A.J. Greer</td>\n",
       "      <td>0</td>\n",
       "      <td>17</td>\n",
       "      <td>3</td>\n",
       "      <td>LW</td>\n",
       "      <td>2017</td>\n",
       "    </tr>\n",
       "    <tr>\n",
       "      <th>2</th>\n",
       "      <td>0</td>\n",
       "      <td>20</td>\n",
       "      <td>Aaron Broten</td>\n",
       "      <td>0</td>\n",
       "      <td>2</td>\n",
       "      <td>0</td>\n",
       "      <td>LW</td>\n",
       "      <td>1980</td>\n",
       "    </tr>\n",
       "    <tr>\n",
       "      <th>3</th>\n",
       "      <td>24</td>\n",
       "      <td>21</td>\n",
       "      <td>Aaron Broten</td>\n",
       "      <td>15</td>\n",
       "      <td>58</td>\n",
       "      <td>39</td>\n",
       "      <td>LW</td>\n",
       "      <td>1981</td>\n",
       "    </tr>\n",
       "    <tr>\n",
       "      <th>4</th>\n",
       "      <td>39</td>\n",
       "      <td>22</td>\n",
       "      <td>Aaron Broten</td>\n",
       "      <td>16</td>\n",
       "      <td>73</td>\n",
       "      <td>55</td>\n",
       "      <td>C</td>\n",
       "      <td>1982</td>\n",
       "    </tr>\n",
       "  </tbody>\n",
       "</table>\n",
       "</div>"
      ],
      "text/plain": [
       "    A  Age     Full_Name   G  GP  PTS Pos  Season\n",
       "0   1   20    A.J. Greer   0   5    1  LW    2016\n",
       "1   3   21    A.J. Greer   0  17    3  LW    2017\n",
       "2   0   20  Aaron Broten   0   2    0  LW    1980\n",
       "3  24   21  Aaron Broten  15  58   39  LW    1981\n",
       "4  39   22  Aaron Broten  16  73   55   C    1982"
      ]
     },
     "execution_count": 118,
     "metadata": {},
     "output_type": "execute_result"
    }
   ],
   "source": [
    "nhl_data_rev = nhl_data_rev.drop(columns=['Unnamed: 0'])\n",
    "nhl_data_rev.head()"
   ]
  },
  {
   "cell_type": "code",
   "execution_count": 119,
   "metadata": {},
   "outputs": [
    {
     "name": "stdout",
     "output_type": "stream",
     "text": [
      "Counter({'D': 12955, 'C': 9148, 'LW': 7962, 'RW': 7588})\n"
     ]
    }
   ],
   "source": [
    "positions = nhl_data_rev['Pos']\n",
    "counts = Counter(positions)\n",
    "print(counts)"
   ]
  },
  {
   "cell_type": "code",
   "execution_count": 120,
   "metadata": {},
   "outputs": [],
   "source": [
    "nhl_data_rev = pd.get_dummies(nhl_data_rev, columns=['Pos'])"
   ]
  },
  {
   "cell_type": "code",
   "execution_count": 121,
   "metadata": {},
   "outputs": [
    {
     "data": {
      "text/html": [
       "<div>\n",
       "<style scoped>\n",
       "    .dataframe tbody tr th:only-of-type {\n",
       "        vertical-align: middle;\n",
       "    }\n",
       "\n",
       "    .dataframe tbody tr th {\n",
       "        vertical-align: top;\n",
       "    }\n",
       "\n",
       "    .dataframe thead th {\n",
       "        text-align: right;\n",
       "    }\n",
       "</style>\n",
       "<table border=\"1\" class=\"dataframe\">\n",
       "  <thead>\n",
       "    <tr style=\"text-align: right;\">\n",
       "      <th></th>\n",
       "      <th>A</th>\n",
       "      <th>Age</th>\n",
       "      <th>Full_Name</th>\n",
       "      <th>G</th>\n",
       "      <th>GP</th>\n",
       "      <th>PTS</th>\n",
       "      <th>Season</th>\n",
       "      <th>Pos_C</th>\n",
       "      <th>Pos_D</th>\n",
       "      <th>Pos_LW</th>\n",
       "      <th>Pos_RW</th>\n",
       "    </tr>\n",
       "  </thead>\n",
       "  <tbody>\n",
       "    <tr>\n",
       "      <th>0</th>\n",
       "      <td>1</td>\n",
       "      <td>20</td>\n",
       "      <td>A.J. Greer</td>\n",
       "      <td>0</td>\n",
       "      <td>5</td>\n",
       "      <td>1</td>\n",
       "      <td>2016</td>\n",
       "      <td>0</td>\n",
       "      <td>0</td>\n",
       "      <td>1</td>\n",
       "      <td>0</td>\n",
       "    </tr>\n",
       "    <tr>\n",
       "      <th>1</th>\n",
       "      <td>3</td>\n",
       "      <td>21</td>\n",
       "      <td>A.J. Greer</td>\n",
       "      <td>0</td>\n",
       "      <td>17</td>\n",
       "      <td>3</td>\n",
       "      <td>2017</td>\n",
       "      <td>0</td>\n",
       "      <td>0</td>\n",
       "      <td>1</td>\n",
       "      <td>0</td>\n",
       "    </tr>\n",
       "    <tr>\n",
       "      <th>2</th>\n",
       "      <td>0</td>\n",
       "      <td>20</td>\n",
       "      <td>Aaron Broten</td>\n",
       "      <td>0</td>\n",
       "      <td>2</td>\n",
       "      <td>0</td>\n",
       "      <td>1980</td>\n",
       "      <td>0</td>\n",
       "      <td>0</td>\n",
       "      <td>1</td>\n",
       "      <td>0</td>\n",
       "    </tr>\n",
       "    <tr>\n",
       "      <th>3</th>\n",
       "      <td>24</td>\n",
       "      <td>21</td>\n",
       "      <td>Aaron Broten</td>\n",
       "      <td>15</td>\n",
       "      <td>58</td>\n",
       "      <td>39</td>\n",
       "      <td>1981</td>\n",
       "      <td>0</td>\n",
       "      <td>0</td>\n",
       "      <td>1</td>\n",
       "      <td>0</td>\n",
       "    </tr>\n",
       "    <tr>\n",
       "      <th>4</th>\n",
       "      <td>39</td>\n",
       "      <td>22</td>\n",
       "      <td>Aaron Broten</td>\n",
       "      <td>16</td>\n",
       "      <td>73</td>\n",
       "      <td>55</td>\n",
       "      <td>1982</td>\n",
       "      <td>1</td>\n",
       "      <td>0</td>\n",
       "      <td>0</td>\n",
       "      <td>0</td>\n",
       "    </tr>\n",
       "  </tbody>\n",
       "</table>\n",
       "</div>"
      ],
      "text/plain": [
       "    A  Age     Full_Name   G  GP  PTS  Season  Pos_C  Pos_D  Pos_LW  Pos_RW\n",
       "0   1   20    A.J. Greer   0   5    1    2016      0      0       1       0\n",
       "1   3   21    A.J. Greer   0  17    3    2017      0      0       1       0\n",
       "2   0   20  Aaron Broten   0   2    0    1980      0      0       1       0\n",
       "3  24   21  Aaron Broten  15  58   39    1981      0      0       1       0\n",
       "4  39   22  Aaron Broten  16  73   55    1982      1      0       0       0"
      ]
     },
     "execution_count": 121,
     "metadata": {},
     "output_type": "execute_result"
    }
   ],
   "source": [
    "nhl_data_rev.head()"
   ]
  },
  {
   "cell_type": "code",
   "execution_count": 171,
   "metadata": {},
   "outputs": [
    {
     "data": {
      "image/png": "[encoded data removed]",
      "text/plain": [
       "<matplotlib.figure.Figure at 0x119a25be0>"
      ]
     },
     "metadata": {},
     "output_type": "display_data"
    }
   ],
   "source": [
    "#ages = nhl_data_rev.G.unique()\n",
    "plt.scatter(nhl_data_rev['G'], nhl_data_rev['PTS'])\n",
    "plt.xlabel('Goals')\n",
    "plt.ylabel('Points')\n",
    "plt.title('NHL Goals x Points')\n",
    "plt.show()"
   ]
  },
  {
   "cell_type": "code",
   "execution_count": 224,
   "metadata": {},
   "outputs": [
    {
     "name": "stdout",
     "output_type": "stream",
     "text": [
      "[('Mark Howe', 28), ('Mark Messier', 27), ('Chris Chelios', 26), ('Pierre Guite', 26), ('Jaromir Jagr', 24)]\n"
     ]
    }
   ],
   "source": [
    "players = nhl_data_rev['Full_Name']\n",
    "counts = Counter(players).most_common(5)\n",
    "print(counts)"
   ]
  },
  {
   "cell_type": "code",
   "execution_count": 225,
   "metadata": {},
   "outputs": [
    {
     "data": {
      "text/plain": [
       "0      A.J. Greer\n",
       "1      A.J. Greer\n",
       "2    Aaron Broten\n",
       "3    Aaron Broten\n",
       "4    Aaron Broten\n",
       "Name: Full_Name, dtype: object"
      ]
     },
     "execution_count": 225,
     "metadata": {},
     "output_type": "execute_result"
    }
   ],
   "source": [
    "players.head()"
   ]
  },
  {
   "cell_type": "code",
   "execution_count": 226,
   "metadata": {},
   "outputs": [],
   "source": [
    "train_data = np.array(nhl_data_rev)"
   ]
  },
  {
   "cell_type": "code",
   "execution_count": 227,
   "metadata": {},
   "outputs": [
    {
     "data": {
      "text/plain": [
       "['A.J. Greer',\n",
       " 'Aaron Broten',\n",
       " 'Aaron Downey',\n",
       " 'Aaron Ekblad',\n",
       " 'Aaron Gagnon',\n",
       " 'Aaron Gavey',\n",
       " 'Aaron Johnson',\n",
       " 'Aaron MacKenzie',\n",
       " 'Aaron Miller',\n",
       " 'Aaron Ness']"
      ]
     },
     "execution_count": 227,
     "metadata": {},
     "output_type": "execute_result"
    }
   ],
   "source": [
    "names = []\n",
    "for name in players:\n",
    "    if name not in names:\n",
    "        names.append(name)\n",
    "names[:10]"
   ]
  },
  {
   "cell_type": "code",
   "execution_count": 149,
   "metadata": {},
   "outputs": [
    {
     "data": {
      "text/plain": [
       "([13, 7, 19, 23, 10, 10, 8, 7, 3, 0, 0], [4, 25, 21, 29, 19, 4, 1])"
      ]
     },
     "execution_count": 149,
     "metadata": {},
     "output_type": "execute_result"
    }
   ],
   "source": [
    "#for name in df['Full_Name'].unique():\n",
    "G = nhl_data_rev[nhl_data_rev.Full_Name == 'Justin Abdelkader']['G']\n",
    "G = list(G)\n",
    "G.reverse()\n",
    "H = nhl_data_rev[nhl_data_rev.Full_Name == 'Tomas Tatar']['G']\n",
    "H = list(H)\n",
    "H.reverse()\n",
    "G[:], H[:]"
   ]
  },
  {
   "cell_type": "code",
   "execution_count": 150,
   "metadata": {},
   "outputs": [],
   "source": [
    "while len(G) < 27:\n",
    "    G.append(0)\n",
    "while len(H) < 27:\n",
    "    H.append(0)"
   ]
  },
  {
   "cell_type": "code",
   "execution_count": 151,
   "metadata": {},
   "outputs": [
    {
     "data": {
      "text/plain": [
       "(27, 27)"
      ]
     },
     "execution_count": 151,
     "metadata": {},
     "output_type": "execute_result"
    }
   ],
   "source": [
    "len(G), len(H)"
   ]
  },
  {
   "cell_type": "code",
   "execution_count": 166,
   "metadata": {},
   "outputs": [
    {
     "data": {
      "text/html": [
       "<div>\n",
       "<style scoped>\n",
       "    .dataframe tbody tr th:only-of-type {\n",
       "        vertical-align: middle;\n",
       "    }\n",
       "\n",
       "    .dataframe tbody tr th {\n",
       "        vertical-align: top;\n",
       "    }\n",
       "\n",
       "    .dataframe thead th {\n",
       "        text-align: right;\n",
       "    }\n",
       "</style>\n",
       "<table border=\"1\" class=\"dataframe\">\n",
       "  <thead>\n",
       "    <tr style=\"text-align: right;\">\n",
       "      <th></th>\n",
       "      <th>0</th>\n",
       "      <th>1</th>\n",
       "      <th>2</th>\n",
       "      <th>3</th>\n",
       "      <th>4</th>\n",
       "      <th>5</th>\n",
       "      <th>6</th>\n",
       "      <th>7</th>\n",
       "      <th>8</th>\n",
       "      <th>9</th>\n",
       "      <th>...</th>\n",
       "      <th>17</th>\n",
       "      <th>18</th>\n",
       "      <th>19</th>\n",
       "      <th>20</th>\n",
       "      <th>21</th>\n",
       "      <th>22</th>\n",
       "      <th>23</th>\n",
       "      <th>24</th>\n",
       "      <th>25</th>\n",
       "      <th>26</th>\n",
       "    </tr>\n",
       "  </thead>\n",
       "  <tbody>\n",
       "    <tr>\n",
       "      <th>0</th>\n",
       "      <td>13</td>\n",
       "      <td>7</td>\n",
       "      <td>19</td>\n",
       "      <td>23</td>\n",
       "      <td>10</td>\n",
       "      <td>10</td>\n",
       "      <td>8</td>\n",
       "      <td>7</td>\n",
       "      <td>3</td>\n",
       "      <td>0</td>\n",
       "      <td>...</td>\n",
       "      <td>0</td>\n",
       "      <td>0</td>\n",
       "      <td>0</td>\n",
       "      <td>0</td>\n",
       "      <td>0</td>\n",
       "      <td>0</td>\n",
       "      <td>0</td>\n",
       "      <td>0</td>\n",
       "      <td>0</td>\n",
       "      <td>0</td>\n",
       "    </tr>\n",
       "    <tr>\n",
       "      <th>1</th>\n",
       "      <td>4</td>\n",
       "      <td>25</td>\n",
       "      <td>21</td>\n",
       "      <td>29</td>\n",
       "      <td>19</td>\n",
       "      <td>4</td>\n",
       "      <td>1</td>\n",
       "      <td>0</td>\n",
       "      <td>0</td>\n",
       "      <td>0</td>\n",
       "      <td>...</td>\n",
       "      <td>0</td>\n",
       "      <td>0</td>\n",
       "      <td>0</td>\n",
       "      <td>0</td>\n",
       "      <td>0</td>\n",
       "      <td>0</td>\n",
       "      <td>0</td>\n",
       "      <td>0</td>\n",
       "      <td>0</td>\n",
       "      <td>0</td>\n",
       "    </tr>\n",
       "  </tbody>\n",
       "</table>\n",
       "<p>2 rows × 27 columns</p>\n",
       "</div>"
      ],
      "text/plain": [
       "   0   1   2   3   4   5   6   7   8   9  ...  17  18  19  20  21  22  23  24  \\\n",
       "0  13   7  19  23  10  10   8   7   3   0 ...   0   0   0   0   0   0   0   0   \n",
       "1   4  25  21  29  19   4   1   0   0   0 ...   0   0   0   0   0   0   0   0   \n",
       "\n",
       "   25  26  \n",
       "0   0   0  \n",
       "1   0   0  \n",
       "\n",
       "[2 rows x 27 columns]"
      ]
     },
     "execution_count": 166,
     "metadata": {},
     "output_type": "execute_result"
    }
   ],
   "source": [
    "U = []\n",
    "U.append(G)\n",
    "U.append(H)\n",
    "test_df = pd.DataFrame(U)\n",
    "test_df"
   ]
  },
  {
   "cell_type": "code",
   "execution_count": 231,
   "metadata": {
    "scrolled": true
   },
   "outputs": [
    {
     "name": "stderr",
     "output_type": "stream",
     "text": [
      "100%|██████████| 6165/6165 [00:57<00:00, 107.72it/s]\n"
     ]
    }
   ],
   "source": [
    "with open('test_goal_matrix.csv', 'w+') as csv_file:\n",
    "    csv_writer = csv.writer(csv_file, delimiter =',')\n",
    "    for name in tqdm(names):\n",
    "        goals = []\n",
    "        for row in nhl_data_rev[nhl_data_rev.Full_Name == name]['G']:\n",
    "            temp = []\n",
    "            goals.append(row)\n",
    "            goals.reverse()\n",
    "            temp.extend(goals)\n",
    "#    print(len(temp))\n",
    "            while (len(temp)) < 28:\n",
    "#        print(True)\n",
    "                temp.append(0)\n",
    "            csv_writer.writerow(temp)\n",
    "#    print(goals)\n",
    "            goals.reverse()"
   ]
  },
  {
   "cell_type": "code",
   "execution_count": 338,
   "metadata": {},
   "outputs": [
    {
     "name": "stderr",
     "output_type": "stream",
     "text": [
      "100%|██████████| 6165/6165 [00:27<00:00, 227.86it/s]\n"
     ]
    }
   ],
   "source": [
    "with open('test_assist_matrix.csv', 'w+') as csv_file:\n",
    "    csv_writer = csv.writer(csv_file, delimiter =',')\n",
    "    for name in tqdm(names):\n",
    "        goals = []\n",
    "        for row in nhl_data_rev[nhl_data_rev.Full_Name == name]['A']:\n",
    "            temp = []\n",
    "            goals.append(row)\n",
    "            goals.reverse()\n",
    "            temp.extend(goals)\n",
    "#    print(len(temp))\n",
    "            while (len(temp)) < 28:\n",
    "#        print(True)\n",
    "                temp.append(0)\n",
    "            csv_writer.writerow(temp)\n",
    "#    print(goals)\n",
    "            goals.reverse()"
   ]
  },
  {
   "cell_type": "code",
   "execution_count": 339,
   "metadata": {},
   "outputs": [
    {
     "name": "stderr",
     "output_type": "stream",
     "text": [
      "100%|██████████| 6165/6165 [00:25<00:00, 242.28it/s]\n"
     ]
    }
   ],
   "source": [
    "with open('test_games_matrix.csv', 'w+') as csv_file:\n",
    "    csv_writer = csv.writer(csv_file, delimiter =',')\n",
    "    for name in tqdm(names):\n",
    "        goals = []\n",
    "        for row in nhl_data_rev[nhl_data_rev.Full_Name == name]['GP']:\n",
    "            temp = []\n",
    "            goals.append(row)\n",
    "            goals.reverse()\n",
    "            temp.extend(goals)\n",
    "#    print(len(temp))\n",
    "            while (len(temp)) < 28:\n",
    "#        print(True)\n",
    "                temp.append(0)\n",
    "            csv_writer.writerow(temp)\n",
    "#    print(goals)\n",
    "            goals.reverse()"
   ]
  },
  {
   "cell_type": "code",
   "execution_count": 340,
   "metadata": {},
   "outputs": [
    {
     "name": "stderr",
     "output_type": "stream",
     "text": [
      "100%|██████████| 6165/6165 [00:25<00:00, 242.06it/s]\n"
     ]
    }
   ],
   "source": [
    "with open('test_points_matrix.csv', 'w+') as csv_file:\n",
    "    csv_writer = csv.writer(csv_file, delimiter =',')\n",
    "    for name in tqdm(names):\n",
    "        goals = []\n",
    "        for row in nhl_data_rev[nhl_data_rev.Full_Name == name]['PTS']:\n",
    "            temp = []\n",
    "            goals.append(row)\n",
    "            goals.reverse()\n",
    "            temp.extend(goals)\n",
    "#    print(len(temp))\n",
    "            while (len(temp)) < 28:\n",
    "#        print(True)\n",
    "                temp.append(0)\n",
    "            csv_writer.writerow(temp)\n",
    "#    print(goals)\n",
    "            goals.reverse()"
   ]
  },
  {
   "cell_type": "code",
   "execution_count": 195,
   "metadata": {},
   "outputs": [
    {
     "data": {
      "text/plain": [
       "[5, 4, 3, 2, 1]"
      ]
     },
     "execution_count": 195,
     "metadata": {},
     "output_type": "execute_result"
    }
   ],
   "source": [
    "a = [1,2,3,4,5]\n",
    "a.reverse()\n",
    "a"
   ]
  },
  {
   "cell_type": "code",
   "execution_count": 345,
   "metadata": {},
   "outputs": [],
   "source": [
    "goal_matrix = pd.read_csv('test_goal_matrix.csv')\n",
    "assist_matrix = pd.read_csv('test_assist_matrix.csv')\n",
    "games_matrix = pd.read_csv('test_games_matrix.csv')\n",
    "points_matrix = pd.read_csv('test_points_matrix.csv')"
   ]
  },
  {
   "cell_type": "code",
   "execution_count": 348,
   "metadata": {},
   "outputs": [
    {
     "data": {
      "text/html": [
       "<div>\n",
       "<style scoped>\n",
       "    .dataframe tbody tr th:only-of-type {\n",
       "        vertical-align: middle;\n",
       "    }\n",
       "\n",
       "    .dataframe tbody tr th {\n",
       "        vertical-align: top;\n",
       "    }\n",
       "\n",
       "    .dataframe thead th {\n",
       "        text-align: right;\n",
       "    }\n",
       "</style>\n",
       "<table border=\"1\" class=\"dataframe\">\n",
       "  <thead>\n",
       "    <tr style=\"text-align: right;\">\n",
       "      <th></th>\n",
       "      <th>p1</th>\n",
       "      <th>p2</th>\n",
       "      <th>p3</th>\n",
       "      <th>p4</th>\n",
       "      <th>p5</th>\n",
       "      <th>p6</th>\n",
       "      <th>p7</th>\n",
       "      <th>p8</th>\n",
       "      <th>p9</th>\n",
       "      <th>p10</th>\n",
       "      <th>...</th>\n",
       "      <th>p19</th>\n",
       "      <th>p20</th>\n",
       "      <th>p21</th>\n",
       "      <th>p22</th>\n",
       "      <th>p23</th>\n",
       "      <th>p24</th>\n",
       "      <th>p25</th>\n",
       "      <th>p26</th>\n",
       "      <th>p27</th>\n",
       "      <th>p28</th>\n",
       "    </tr>\n",
       "  </thead>\n",
       "  <tbody>\n",
       "    <tr>\n",
       "      <th>0</th>\n",
       "      <td>1</td>\n",
       "      <td>0</td>\n",
       "      <td>0</td>\n",
       "      <td>0</td>\n",
       "      <td>0</td>\n",
       "      <td>0</td>\n",
       "      <td>0</td>\n",
       "      <td>0</td>\n",
       "      <td>0</td>\n",
       "      <td>0</td>\n",
       "      <td>...</td>\n",
       "      <td>0</td>\n",
       "      <td>0</td>\n",
       "      <td>0</td>\n",
       "      <td>0</td>\n",
       "      <td>0</td>\n",
       "      <td>0</td>\n",
       "      <td>0</td>\n",
       "      <td>0</td>\n",
       "      <td>0</td>\n",
       "      <td>0</td>\n",
       "    </tr>\n",
       "    <tr>\n",
       "      <th>1</th>\n",
       "      <td>3</td>\n",
       "      <td>1</td>\n",
       "      <td>0</td>\n",
       "      <td>0</td>\n",
       "      <td>0</td>\n",
       "      <td>0</td>\n",
       "      <td>0</td>\n",
       "      <td>0</td>\n",
       "      <td>0</td>\n",
       "      <td>0</td>\n",
       "      <td>...</td>\n",
       "      <td>0</td>\n",
       "      <td>0</td>\n",
       "      <td>0</td>\n",
       "      <td>0</td>\n",
       "      <td>0</td>\n",
       "      <td>0</td>\n",
       "      <td>0</td>\n",
       "      <td>0</td>\n",
       "      <td>0</td>\n",
       "      <td>0</td>\n",
       "    </tr>\n",
       "    <tr>\n",
       "      <th>2</th>\n",
       "      <td>0</td>\n",
       "      <td>0</td>\n",
       "      <td>0</td>\n",
       "      <td>0</td>\n",
       "      <td>0</td>\n",
       "      <td>0</td>\n",
       "      <td>0</td>\n",
       "      <td>0</td>\n",
       "      <td>0</td>\n",
       "      <td>0</td>\n",
       "      <td>...</td>\n",
       "      <td>0</td>\n",
       "      <td>0</td>\n",
       "      <td>0</td>\n",
       "      <td>0</td>\n",
       "      <td>0</td>\n",
       "      <td>0</td>\n",
       "      <td>0</td>\n",
       "      <td>0</td>\n",
       "      <td>0</td>\n",
       "      <td>0</td>\n",
       "    </tr>\n",
       "    <tr>\n",
       "      <th>3</th>\n",
       "      <td>24</td>\n",
       "      <td>0</td>\n",
       "      <td>0</td>\n",
       "      <td>0</td>\n",
       "      <td>0</td>\n",
       "      <td>0</td>\n",
       "      <td>0</td>\n",
       "      <td>0</td>\n",
       "      <td>0</td>\n",
       "      <td>0</td>\n",
       "      <td>...</td>\n",
       "      <td>0</td>\n",
       "      <td>0</td>\n",
       "      <td>0</td>\n",
       "      <td>0</td>\n",
       "      <td>0</td>\n",
       "      <td>0</td>\n",
       "      <td>0</td>\n",
       "      <td>0</td>\n",
       "      <td>0</td>\n",
       "      <td>0</td>\n",
       "    </tr>\n",
       "    <tr>\n",
       "      <th>4</th>\n",
       "      <td>39</td>\n",
       "      <td>24</td>\n",
       "      <td>0</td>\n",
       "      <td>0</td>\n",
       "      <td>0</td>\n",
       "      <td>0</td>\n",
       "      <td>0</td>\n",
       "      <td>0</td>\n",
       "      <td>0</td>\n",
       "      <td>0</td>\n",
       "      <td>...</td>\n",
       "      <td>0</td>\n",
       "      <td>0</td>\n",
       "      <td>0</td>\n",
       "      <td>0</td>\n",
       "      <td>0</td>\n",
       "      <td>0</td>\n",
       "      <td>0</td>\n",
       "      <td>0</td>\n",
       "      <td>0</td>\n",
       "      <td>0</td>\n",
       "    </tr>\n",
       "  </tbody>\n",
       "</table>\n",
       "<p>5 rows × 28 columns</p>\n",
       "</div>"
      ],
      "text/plain": [
       "   p1  p2  p3  p4  p5  p6  p7  p8  p9  p10 ...   p19  p20  p21  p22  p23  p24  \\\n",
       "0   1   0   0   0   0   0   0   0   0    0 ...     0    0    0    0    0    0   \n",
       "1   3   1   0   0   0   0   0   0   0    0 ...     0    0    0    0    0    0   \n",
       "2   0   0   0   0   0   0   0   0   0    0 ...     0    0    0    0    0    0   \n",
       "3  24   0   0   0   0   0   0   0   0    0 ...     0    0    0    0    0    0   \n",
       "4  39  24   0   0   0   0   0   0   0    0 ...     0    0    0    0    0    0   \n",
       "\n",
       "   p25  p26  p27  p28  \n",
       "0    0    0    0    0  \n",
       "1    0    0    0    0  \n",
       "2    0    0    0    0  \n",
       "3    0    0    0    0  \n",
       "4    0    0    0    0  \n",
       "\n",
       "[5 rows x 28 columns]"
      ]
     },
     "execution_count": 348,
     "metadata": {},
     "output_type": "execute_result"
    }
   ],
   "source": [
    "assist_matrix.head(5)"
   ]
  },
  {
   "cell_type": "code",
   "execution_count": 344,
   "metadata": {},
   "outputs": [
    {
     "data": {
      "text/html": [
       "<div>\n",
       "<style scoped>\n",
       "    .dataframe tbody tr th:only-of-type {\n",
       "        vertical-align: middle;\n",
       "    }\n",
       "\n",
       "    .dataframe tbody tr th {\n",
       "        vertical-align: top;\n",
       "    }\n",
       "\n",
       "    .dataframe thead th {\n",
       "        text-align: right;\n",
       "    }\n",
       "</style>\n",
       "<table border=\"1\" class=\"dataframe\">\n",
       "  <thead>\n",
       "    <tr style=\"text-align: right;\">\n",
       "      <th></th>\n",
       "      <th>A</th>\n",
       "      <th>Age</th>\n",
       "      <th>Full_Name</th>\n",
       "      <th>G</th>\n",
       "      <th>GP</th>\n",
       "      <th>PTS</th>\n",
       "      <th>Season</th>\n",
       "      <th>Pos_C</th>\n",
       "      <th>Pos_D</th>\n",
       "      <th>Pos_LW</th>\n",
       "      <th>Pos_RW</th>\n",
       "    </tr>\n",
       "  </thead>\n",
       "  <tbody>\n",
       "    <tr>\n",
       "      <th>0</th>\n",
       "      <td>1</td>\n",
       "      <td>20</td>\n",
       "      <td>A.J. Greer</td>\n",
       "      <td>0</td>\n",
       "      <td>5</td>\n",
       "      <td>1</td>\n",
       "      <td>2016</td>\n",
       "      <td>0</td>\n",
       "      <td>0</td>\n",
       "      <td>1</td>\n",
       "      <td>0</td>\n",
       "    </tr>\n",
       "    <tr>\n",
       "      <th>1</th>\n",
       "      <td>3</td>\n",
       "      <td>21</td>\n",
       "      <td>A.J. Greer</td>\n",
       "      <td>0</td>\n",
       "      <td>17</td>\n",
       "      <td>3</td>\n",
       "      <td>2017</td>\n",
       "      <td>0</td>\n",
       "      <td>0</td>\n",
       "      <td>1</td>\n",
       "      <td>0</td>\n",
       "    </tr>\n",
       "    <tr>\n",
       "      <th>2</th>\n",
       "      <td>0</td>\n",
       "      <td>20</td>\n",
       "      <td>Aaron Broten</td>\n",
       "      <td>0</td>\n",
       "      <td>2</td>\n",
       "      <td>0</td>\n",
       "      <td>1980</td>\n",
       "      <td>0</td>\n",
       "      <td>0</td>\n",
       "      <td>1</td>\n",
       "      <td>0</td>\n",
       "    </tr>\n",
       "    <tr>\n",
       "      <th>3</th>\n",
       "      <td>24</td>\n",
       "      <td>21</td>\n",
       "      <td>Aaron Broten</td>\n",
       "      <td>15</td>\n",
       "      <td>58</td>\n",
       "      <td>39</td>\n",
       "      <td>1981</td>\n",
       "      <td>0</td>\n",
       "      <td>0</td>\n",
       "      <td>1</td>\n",
       "      <td>0</td>\n",
       "    </tr>\n",
       "    <tr>\n",
       "      <th>4</th>\n",
       "      <td>39</td>\n",
       "      <td>22</td>\n",
       "      <td>Aaron Broten</td>\n",
       "      <td>16</td>\n",
       "      <td>73</td>\n",
       "      <td>55</td>\n",
       "      <td>1982</td>\n",
       "      <td>1</td>\n",
       "      <td>0</td>\n",
       "      <td>0</td>\n",
       "      <td>0</td>\n",
       "    </tr>\n",
       "  </tbody>\n",
       "</table>\n",
       "</div>"
      ],
      "text/plain": [
       "    A  Age     Full_Name   G  GP  PTS  Season  Pos_C  Pos_D  Pos_LW  Pos_RW\n",
       "0   1   20    A.J. Greer   0   5    1    2016      0      0       1       0\n",
       "1   3   21    A.J. Greer   0  17    3    2017      0      0       1       0\n",
       "2   0   20  Aaron Broten   0   2    0    1980      0      0       1       0\n",
       "3  24   21  Aaron Broten  15  58   39    1981      0      0       1       0\n",
       "4  39   22  Aaron Broten  16  73   55    1982      1      0       0       0"
      ]
     },
     "execution_count": 344,
     "metadata": {},
     "output_type": "execute_result"
    }
   ],
   "source": [
    "nhl_data_rev.head(5)"
   ]
  },
  {
   "cell_type": "code",
   "execution_count": 241,
   "metadata": {},
   "outputs": [
    {
     "data": {
      "text/plain": [
       "(37653, 37653)"
      ]
     },
     "execution_count": 241,
     "metadata": {},
     "output_type": "execute_result"
    }
   ],
   "source": [
    "len(goal_matrix), len(nhl_data_rev)"
   ]
  },
  {
   "cell_type": "code",
   "execution_count": 349,
   "metadata": {},
   "outputs": [],
   "source": [
    "full_input_matrix = pd.concat([nhl_data_rev, goal_matrix, games_matrix, points_matrix, assist_matrix], axis = 1)"
   ]
  },
  {
   "cell_type": "code",
   "execution_count": 350,
   "metadata": {},
   "outputs": [
    {
     "data": {
      "text/html": [
       "<div>\n",
       "<style scoped>\n",
       "    .dataframe tbody tr th:only-of-type {\n",
       "        vertical-align: middle;\n",
       "    }\n",
       "\n",
       "    .dataframe tbody tr th {\n",
       "        vertical-align: top;\n",
       "    }\n",
       "\n",
       "    .dataframe thead th {\n",
       "        text-align: right;\n",
       "    }\n",
       "</style>\n",
       "<table border=\"1\" class=\"dataframe\">\n",
       "  <thead>\n",
       "    <tr style=\"text-align: right;\">\n",
       "      <th></th>\n",
       "      <th>A</th>\n",
       "      <th>Age</th>\n",
       "      <th>Full_Name</th>\n",
       "      <th>G</th>\n",
       "      <th>GP</th>\n",
       "      <th>PTS</th>\n",
       "      <th>Season</th>\n",
       "      <th>Pos_C</th>\n",
       "      <th>Pos_D</th>\n",
       "      <th>Pos_LW</th>\n",
       "      <th>...</th>\n",
       "      <th>p19</th>\n",
       "      <th>p20</th>\n",
       "      <th>p21</th>\n",
       "      <th>p22</th>\n",
       "      <th>p23</th>\n",
       "      <th>p24</th>\n",
       "      <th>p25</th>\n",
       "      <th>p26</th>\n",
       "      <th>p27</th>\n",
       "      <th>p28</th>\n",
       "    </tr>\n",
       "  </thead>\n",
       "  <tbody>\n",
       "    <tr>\n",
       "      <th>0</th>\n",
       "      <td>1</td>\n",
       "      <td>20</td>\n",
       "      <td>A.J. Greer</td>\n",
       "      <td>0</td>\n",
       "      <td>5</td>\n",
       "      <td>1</td>\n",
       "      <td>2016</td>\n",
       "      <td>0</td>\n",
       "      <td>0</td>\n",
       "      <td>1</td>\n",
       "      <td>...</td>\n",
       "      <td>0</td>\n",
       "      <td>0</td>\n",
       "      <td>0</td>\n",
       "      <td>0</td>\n",
       "      <td>0</td>\n",
       "      <td>0</td>\n",
       "      <td>0</td>\n",
       "      <td>0</td>\n",
       "      <td>0</td>\n",
       "      <td>0</td>\n",
       "    </tr>\n",
       "    <tr>\n",
       "      <th>1</th>\n",
       "      <td>3</td>\n",
       "      <td>21</td>\n",
       "      <td>A.J. Greer</td>\n",
       "      <td>0</td>\n",
       "      <td>17</td>\n",
       "      <td>3</td>\n",
       "      <td>2017</td>\n",
       "      <td>0</td>\n",
       "      <td>0</td>\n",
       "      <td>1</td>\n",
       "      <td>...</td>\n",
       "      <td>0</td>\n",
       "      <td>0</td>\n",
       "      <td>0</td>\n",
       "      <td>0</td>\n",
       "      <td>0</td>\n",
       "      <td>0</td>\n",
       "      <td>0</td>\n",
       "      <td>0</td>\n",
       "      <td>0</td>\n",
       "      <td>0</td>\n",
       "    </tr>\n",
       "    <tr>\n",
       "      <th>2</th>\n",
       "      <td>0</td>\n",
       "      <td>20</td>\n",
       "      <td>Aaron Broten</td>\n",
       "      <td>0</td>\n",
       "      <td>2</td>\n",
       "      <td>0</td>\n",
       "      <td>1980</td>\n",
       "      <td>0</td>\n",
       "      <td>0</td>\n",
       "      <td>1</td>\n",
       "      <td>...</td>\n",
       "      <td>0</td>\n",
       "      <td>0</td>\n",
       "      <td>0</td>\n",
       "      <td>0</td>\n",
       "      <td>0</td>\n",
       "      <td>0</td>\n",
       "      <td>0</td>\n",
       "      <td>0</td>\n",
       "      <td>0</td>\n",
       "      <td>0</td>\n",
       "    </tr>\n",
       "    <tr>\n",
       "      <th>3</th>\n",
       "      <td>24</td>\n",
       "      <td>21</td>\n",
       "      <td>Aaron Broten</td>\n",
       "      <td>15</td>\n",
       "      <td>58</td>\n",
       "      <td>39</td>\n",
       "      <td>1981</td>\n",
       "      <td>0</td>\n",
       "      <td>0</td>\n",
       "      <td>1</td>\n",
       "      <td>...</td>\n",
       "      <td>0</td>\n",
       "      <td>0</td>\n",
       "      <td>0</td>\n",
       "      <td>0</td>\n",
       "      <td>0</td>\n",
       "      <td>0</td>\n",
       "      <td>0</td>\n",
       "      <td>0</td>\n",
       "      <td>0</td>\n",
       "      <td>0</td>\n",
       "    </tr>\n",
       "    <tr>\n",
       "      <th>4</th>\n",
       "      <td>39</td>\n",
       "      <td>22</td>\n",
       "      <td>Aaron Broten</td>\n",
       "      <td>16</td>\n",
       "      <td>73</td>\n",
       "      <td>55</td>\n",
       "      <td>1982</td>\n",
       "      <td>1</td>\n",
       "      <td>0</td>\n",
       "      <td>0</td>\n",
       "      <td>...</td>\n",
       "      <td>0</td>\n",
       "      <td>0</td>\n",
       "      <td>0</td>\n",
       "      <td>0</td>\n",
       "      <td>0</td>\n",
       "      <td>0</td>\n",
       "      <td>0</td>\n",
       "      <td>0</td>\n",
       "      <td>0</td>\n",
       "      <td>0</td>\n",
       "    </tr>\n",
       "  </tbody>\n",
       "</table>\n",
       "<p>5 rows × 123 columns</p>\n",
       "</div>"
      ],
      "text/plain": [
       "    A  Age     Full_Name   G  GP  PTS  Season  Pos_C  Pos_D  Pos_LW ...   p19  \\\n",
       "0   1   20    A.J. Greer   0   5    1    2016      0      0       1 ...     0   \n",
       "1   3   21    A.J. Greer   0  17    3    2017      0      0       1 ...     0   \n",
       "2   0   20  Aaron Broten   0   2    0    1980      0      0       1 ...     0   \n",
       "3  24   21  Aaron Broten  15  58   39    1981      0      0       1 ...     0   \n",
       "4  39   22  Aaron Broten  16  73   55    1982      1      0       0 ...     0   \n",
       "\n",
       "   p20  p21  p22  p23  p24  p25  p26  p27  p28  \n",
       "0    0    0    0    0    0    0    0    0    0  \n",
       "1    0    0    0    0    0    0    0    0    0  \n",
       "2    0    0    0    0    0    0    0    0    0  \n",
       "3    0    0    0    0    0    0    0    0    0  \n",
       "4    0    0    0    0    0    0    0    0    0  \n",
       "\n",
       "[5 rows x 123 columns]"
      ]
     },
     "execution_count": 350,
     "metadata": {},
     "output_type": "execute_result"
    }
   ],
   "source": [
    "full_input_matrix.head()"
   ]
  },
  {
   "cell_type": "code",
   "execution_count": 351,
   "metadata": {},
   "outputs": [
    {
     "data": {
      "text/plain": [
       "37653"
      ]
     },
     "execution_count": 351,
     "metadata": {},
     "output_type": "execute_result"
    }
   ],
   "source": [
    "len(full_input_matrix)"
   ]
  },
  {
   "cell_type": "code",
   "execution_count": 369,
   "metadata": {},
   "outputs": [],
   "source": [
    "input_matrix = full_input_matrix.drop(columns = \\\n",
    "                            ['G', 'g1', 'Full_Name', 'A', 'PTS', 'GP', 'a1', 'p1', 'gm1', 'Season'])\n",
    "targets = full_input_matrix['G']"
   ]
  },
  {
   "cell_type": "code",
   "execution_count": 370,
   "metadata": {},
   "outputs": [
    {
     "data": {
      "text/html": [
       "<div>\n",
       "<style scoped>\n",
       "    .dataframe tbody tr th:only-of-type {\n",
       "        vertical-align: middle;\n",
       "    }\n",
       "\n",
       "    .dataframe tbody tr th {\n",
       "        vertical-align: top;\n",
       "    }\n",
       "\n",
       "    .dataframe thead th {\n",
       "        text-align: right;\n",
       "    }\n",
       "</style>\n",
       "<table border=\"1\" class=\"dataframe\">\n",
       "  <thead>\n",
       "    <tr style=\"text-align: right;\">\n",
       "      <th></th>\n",
       "      <th>Age</th>\n",
       "      <th>Pos_C</th>\n",
       "      <th>Pos_D</th>\n",
       "      <th>Pos_LW</th>\n",
       "      <th>Pos_RW</th>\n",
       "      <th>g2</th>\n",
       "      <th>g3</th>\n",
       "      <th>g4</th>\n",
       "      <th>g5</th>\n",
       "      <th>g6</th>\n",
       "      <th>...</th>\n",
       "      <th>p19</th>\n",
       "      <th>p20</th>\n",
       "      <th>p21</th>\n",
       "      <th>p22</th>\n",
       "      <th>p23</th>\n",
       "      <th>p24</th>\n",
       "      <th>p25</th>\n",
       "      <th>p26</th>\n",
       "      <th>p27</th>\n",
       "      <th>p28</th>\n",
       "    </tr>\n",
       "  </thead>\n",
       "  <tbody>\n",
       "    <tr>\n",
       "      <th>0</th>\n",
       "      <td>20</td>\n",
       "      <td>0</td>\n",
       "      <td>0</td>\n",
       "      <td>1</td>\n",
       "      <td>0</td>\n",
       "      <td>0</td>\n",
       "      <td>0</td>\n",
       "      <td>0</td>\n",
       "      <td>0</td>\n",
       "      <td>0</td>\n",
       "      <td>...</td>\n",
       "      <td>0</td>\n",
       "      <td>0</td>\n",
       "      <td>0</td>\n",
       "      <td>0</td>\n",
       "      <td>0</td>\n",
       "      <td>0</td>\n",
       "      <td>0</td>\n",
       "      <td>0</td>\n",
       "      <td>0</td>\n",
       "      <td>0</td>\n",
       "    </tr>\n",
       "    <tr>\n",
       "      <th>1</th>\n",
       "      <td>21</td>\n",
       "      <td>0</td>\n",
       "      <td>0</td>\n",
       "      <td>1</td>\n",
       "      <td>0</td>\n",
       "      <td>0</td>\n",
       "      <td>0</td>\n",
       "      <td>0</td>\n",
       "      <td>0</td>\n",
       "      <td>0</td>\n",
       "      <td>...</td>\n",
       "      <td>0</td>\n",
       "      <td>0</td>\n",
       "      <td>0</td>\n",
       "      <td>0</td>\n",
       "      <td>0</td>\n",
       "      <td>0</td>\n",
       "      <td>0</td>\n",
       "      <td>0</td>\n",
       "      <td>0</td>\n",
       "      <td>0</td>\n",
       "    </tr>\n",
       "    <tr>\n",
       "      <th>2</th>\n",
       "      <td>20</td>\n",
       "      <td>0</td>\n",
       "      <td>0</td>\n",
       "      <td>1</td>\n",
       "      <td>0</td>\n",
       "      <td>0</td>\n",
       "      <td>0</td>\n",
       "      <td>0</td>\n",
       "      <td>0</td>\n",
       "      <td>0</td>\n",
       "      <td>...</td>\n",
       "      <td>0</td>\n",
       "      <td>0</td>\n",
       "      <td>0</td>\n",
       "      <td>0</td>\n",
       "      <td>0</td>\n",
       "      <td>0</td>\n",
       "      <td>0</td>\n",
       "      <td>0</td>\n",
       "      <td>0</td>\n",
       "      <td>0</td>\n",
       "    </tr>\n",
       "    <tr>\n",
       "      <th>3</th>\n",
       "      <td>21</td>\n",
       "      <td>0</td>\n",
       "      <td>0</td>\n",
       "      <td>1</td>\n",
       "      <td>0</td>\n",
       "      <td>0</td>\n",
       "      <td>0</td>\n",
       "      <td>0</td>\n",
       "      <td>0</td>\n",
       "      <td>0</td>\n",
       "      <td>...</td>\n",
       "      <td>0</td>\n",
       "      <td>0</td>\n",
       "      <td>0</td>\n",
       "      <td>0</td>\n",
       "      <td>0</td>\n",
       "      <td>0</td>\n",
       "      <td>0</td>\n",
       "      <td>0</td>\n",
       "      <td>0</td>\n",
       "      <td>0</td>\n",
       "    </tr>\n",
       "    <tr>\n",
       "      <th>4</th>\n",
       "      <td>22</td>\n",
       "      <td>1</td>\n",
       "      <td>0</td>\n",
       "      <td>0</td>\n",
       "      <td>0</td>\n",
       "      <td>15</td>\n",
       "      <td>0</td>\n",
       "      <td>0</td>\n",
       "      <td>0</td>\n",
       "      <td>0</td>\n",
       "      <td>...</td>\n",
       "      <td>0</td>\n",
       "      <td>0</td>\n",
       "      <td>0</td>\n",
       "      <td>0</td>\n",
       "      <td>0</td>\n",
       "      <td>0</td>\n",
       "      <td>0</td>\n",
       "      <td>0</td>\n",
       "      <td>0</td>\n",
       "      <td>0</td>\n",
       "    </tr>\n",
       "  </tbody>\n",
       "</table>\n",
       "<p>5 rows × 113 columns</p>\n",
       "</div>"
      ],
      "text/plain": [
       "   Age  Pos_C  Pos_D  Pos_LW  Pos_RW  g2  g3  g4  g5  g6 ...   p19  p20  p21  \\\n",
       "0   20      0      0       1       0   0   0   0   0   0 ...     0    0    0   \n",
       "1   21      0      0       1       0   0   0   0   0   0 ...     0    0    0   \n",
       "2   20      0      0       1       0   0   0   0   0   0 ...     0    0    0   \n",
       "3   21      0      0       1       0   0   0   0   0   0 ...     0    0    0   \n",
       "4   22      1      0       0       0  15   0   0   0   0 ...     0    0    0   \n",
       "\n",
       "   p22  p23  p24  p25  p26  p27  p28  \n",
       "0    0    0    0    0    0    0    0  \n",
       "1    0    0    0    0    0    0    0  \n",
       "2    0    0    0    0    0    0    0  \n",
       "3    0    0    0    0    0    0    0  \n",
       "4    0    0    0    0    0    0    0  \n",
       "\n",
       "[5 rows x 113 columns]"
      ]
     },
     "execution_count": 370,
     "metadata": {},
     "output_type": "execute_result"
    }
   ],
   "source": [
    "input_matrix.head()"
   ]
  },
  {
   "cell_type": "code",
   "execution_count": 371,
   "metadata": {},
   "outputs": [],
   "source": [
    "input_matrix.fillna(0, inplace=True)"
   ]
  },
  {
   "cell_type": "code",
   "execution_count": 372,
   "metadata": {},
   "outputs": [
    {
     "data": {
      "text/plain": [
       "(False, True)"
      ]
     },
     "execution_count": 372,
     "metadata": {},
     "output_type": "execute_result"
    }
   ],
   "source": [
    "np.any(np.isnan(input_matrix)), np.all(np.isfinite(input_matrix))"
   ]
  },
  {
   "cell_type": "code",
   "execution_count": 373,
   "metadata": {},
   "outputs": [],
   "source": [
    "col_list = list(input_matrix.columns)\n",
    "inputs = np.array(input_matrix)\n",
    "labels = np.array(targets)"
   ]
  },
  {
   "cell_type": "code",
   "execution_count": 374,
   "metadata": {},
   "outputs": [],
   "source": [
    "train_inputs, test_inputs, train_tgts, test_tgts = train_test_split(inputs, labels, test_size = 0.25, random_state = 69)"
   ]
  },
  {
   "cell_type": "code",
   "execution_count": 375,
   "metadata": {
    "scrolled": true
   },
   "outputs": [
    {
     "name": "stdout",
     "output_type": "stream",
     "text": [
      "Training Features Shape: (28239, 113)\n",
      "Training Labels Shape: (28239,)\n",
      "Testing Features Shape: (9414, 113)\n",
      "Testing Labels Shape: (9414,)\n"
     ]
    }
   ],
   "source": [
    "print('Training Features Shape:', train_inputs.shape)\n",
    "print('Training Labels Shape:', train_tgts.shape)\n",
    "print('Testing Features Shape:', test_inputs.shape)\n",
    "print('Testing Labels Shape:', test_tgts.shape)"
   ]
  },
  {
   "cell_type": "code",
   "execution_count": 376,
   "metadata": {},
   "outputs": [],
   "source": [
    "model = RandomForestRegressor(n_estimators = 1000, random_state = 69, verbose=True)"
   ]
  },
  {
   "cell_type": "code",
   "execution_count": 377,
   "metadata": {},
   "outputs": [
    {
     "name": "stderr",
     "output_type": "stream",
     "text": [
      "[Parallel(n_jobs=1)]: Done 1000 out of 1000 | elapsed: 13.9min finished\n"
     ]
    },
    {
     "data": {
      "text/plain": [
       "RandomForestRegressor(bootstrap=True, criterion='mse', max_depth=None,\n",
       "           max_features='auto', max_leaf_nodes=None,\n",
       "           min_impurity_decrease=0.0, min_impurity_split=None,\n",
       "           min_samples_leaf=1, min_samples_split=2,\n",
       "           min_weight_fraction_leaf=0.0, n_estimators=1000, n_jobs=1,\n",
       "           oob_score=False, random_state=69, verbose=True,\n",
       "           warm_start=False)"
      ]
     },
     "execution_count": 377,
     "metadata": {},
     "output_type": "execute_result"
    }
   ],
   "source": [
    "model.fit(train_inputs, train_tgts)"
   ]
  },
  {
   "cell_type": "code",
   "execution_count": 378,
   "metadata": {},
   "outputs": [
    {
     "name": "stderr",
     "output_type": "stream",
     "text": [
      "[Parallel(n_jobs=1)]: Done 1000 out of 1000 | elapsed:   14.9s finished\n"
     ]
    }
   ],
   "source": [
    "predictions = model.predict(test_inputs)"
   ]
  },
  {
   "cell_type": "code",
   "execution_count": 379,
   "metadata": {},
   "outputs": [],
   "source": [
    "errors = abs(predictions - test_tgts)"
   ]
  },
  {
   "cell_type": "code",
   "execution_count": 380,
   "metadata": {},
   "outputs": [
    {
     "name": "stdout",
     "output_type": "stream",
     "text": [
      "Mean Absolute Error: 4.64 Goals.\n"
     ]
    }
   ],
   "source": [
    "print('Mean Absolute Error:', round(np.mean(errors), 2), 'Goals.')"
   ]
  },
  {
   "cell_type": "code",
   "execution_count": 382,
   "metadata": {},
   "outputs": [],
   "source": [
    "altered_tgts = []\n",
    "for num in test_tgts:\n",
    "    if num != 0:\n",
    "        altered_tgts.append(num)\n",
    "    else:\n",
    "        altered_tgts.append(1)"
   ]
  },
  {
   "cell_type": "code",
   "execution_count": 383,
   "metadata": {},
   "outputs": [
    {
     "name": "stdout",
     "output_type": "stream",
     "text": [
      "Accuracy: 46.62 %.\n"
     ]
    }
   ],
   "source": [
    "mape = 100 * (errors / altered_tgts)\n",
    "accuracy = abs(100 - np.mean(mape))\n",
    "print('Accuracy:', round(accuracy, 2), '%.')"
   ]
  },
  {
   "cell_type": "code",
   "execution_count": 384,
   "metadata": {},
   "outputs": [
    {
     "data": {
      "text/plain": [
       "(array([ 2.91378715, 10.631     , 28.738     ,  1.325     ,  1.72603653,\n",
       "        31.165     ,  5.945     ,  1.27793937,  7.36349305]),\n",
       " array([ 0, 14, 37,  2,  0, 39,  3,  0, 12]))"
      ]
     },
     "execution_count": 384,
     "metadata": {},
     "output_type": "execute_result"
    }
   ],
   "source": [
    "predictions[:9], test_tgts[:9]"
   ]
  },
  {
   "cell_type": "code",
   "execution_count": 404,
   "metadata": {
    "scrolled": true
   },
   "outputs": [
    {
     "name": "stdout",
     "output_type": "stream",
     "text": [
      "Variable: g2                   Importance: 0.597\n",
      "Variable: gm2                  Importance: 0.0444\n",
      "Variable: Age                  Importance: 0.0352\n",
      "Variable: g3                   Importance: 0.0345\n",
      "Variable: a2                   Importance: 0.0276\n",
      "Variable: gm3                  Importance: 0.0243\n",
      "Variable: p2                   Importance: 0.0202\n",
      "Variable: a3                   Importance: 0.0191\n",
      "Variable: g4                   Importance: 0.0153\n",
      "Variable: p3                   Importance: 0.0151\n",
      "Variable: gm4                  Importance: 0.0138\n",
      "Variable: a4                   Importance: 0.0117\n",
      "Variable: Pos_D                Importance: 0.0114\n",
      "Variable: g5                   Importance: 0.0103\n",
      "Variable: gm5                  Importance: 0.0101\n",
      "Variable: p4                   Importance: 0.0099\n",
      "Variable: a5                   Importance: 0.0074\n",
      "Variable: p5                   Importance: 0.0068\n",
      "Variable: gm6                  Importance: 0.0067\n",
      "Variable: g6                   Importance: 0.0062\n",
      "Variable: gm7                  Importance: 0.0049\n",
      "Variable: Pos_RW               Importance: 0.0046\n",
      "Variable: a6                   Importance: 0.0046\n",
      "Variable: p6                   Importance: 0.0046\n",
      "Variable: g7                   Importance: 0.0044\n",
      "Variable: Pos_LW               Importance: 0.0043\n",
      "Variable: Pos_C                Importance: 0.0041\n",
      "Variable: gm8                  Importance: 0.0034\n",
      "Variable: a7                   Importance: 0.0034\n",
      "Variable: p7                   Importance: 0.0034\n",
      "Variable: g8                   Importance: 0.003\n",
      "Variable: gm9                  Importance: 0.0029\n",
      "Variable: g9                   Importance: 0.0024\n",
      "Variable: a8                   Importance: 0.0023\n",
      "Variable: p8                   Importance: 0.0022\n",
      "Variable: p9                   Importance: 0.0018\n",
      "Variable: gm10                 Importance: 0.0016\n",
      "Variable: a9                   Importance: 0.0016\n",
      "Variable: g10                  Importance: 0.0015\n",
      "Variable: gm11                 Importance: 0.0012\n",
      "Variable: p10                  Importance: 0.0012\n",
      "Variable: a10                  Importance: 0.0011\n",
      "Variable: g11                  Importance: 0.001\n",
      "Variable: gm12                 Importance: 0.0008\n",
      "Variable: a11                  Importance: 0.0007\n",
      "Variable: g12                  Importance: 0.0006\n",
      "Variable: p11                  Importance: 0.0006\n",
      "Variable: gm13                 Importance: 0.0005\n",
      "Variable: gm14                 Importance: 0.0004\n",
      "Variable: a12                  Importance: 0.0004\n",
      "Variable: p12                  Importance: 0.0004\n",
      "Variable: g13                  Importance: 0.0003\n",
      "Variable: g14                  Importance: 0.0003\n",
      "Variable: a13                  Importance: 0.0003\n",
      "Variable: p13                  Importance: 0.0003\n",
      "Variable: a14                  Importance: 0.0002\n",
      "Variable: p14                  Importance: 0.0002\n",
      "Variable: g15                  Importance: 0.0001\n",
      "Variable: g16                  Importance: 0.0001\n",
      "Variable: gm15                 Importance: 0.0001\n",
      "Variable: gm16                 Importance: 0.0001\n",
      "Variable: gm17                 Importance: 0.0001\n",
      "Variable: a15                  Importance: 0.0001\n",
      "Variable: a16                  Importance: 0.0001\n",
      "Variable: p15                  Importance: 0.0001\n",
      "Variable: p16                  Importance: 0.0001\n",
      "Variable: g17                  Importance: 0.0\n",
      "Variable: g18                  Importance: 0.0\n",
      "Variable: g19                  Importance: 0.0\n",
      "Variable: g20                  Importance: 0.0\n",
      "Variable: g21                  Importance: 0.0\n",
      "Variable: g22                  Importance: 0.0\n",
      "Variable: g23                  Importance: 0.0\n",
      "Variable: g24                  Importance: 0.0\n",
      "Variable: g25                  Importance: 0.0\n",
      "Variable: g26                  Importance: 0.0\n",
      "Variable: g27                  Importance: 0.0\n",
      "Variable: g28                  Importance: 0.0\n",
      "Variable: gm18                 Importance: 0.0\n",
      "Variable: gm19                 Importance: 0.0\n",
      "Variable: gm20                 Importance: 0.0\n",
      "Variable: gm21                 Importance: 0.0\n",
      "Variable: gm22                 Importance: 0.0\n",
      "Variable: gm23                 Importance: 0.0\n",
      "Variable: gm24                 Importance: 0.0\n",
      "Variable: gm25                 Importance: 0.0\n",
      "Variable: gm26                 Importance: 0.0\n",
      "Variable: gm27                 Importance: 0.0\n",
      "Variable: gm28                 Importance: 0.0\n",
      "Variable: a17                  Importance: 0.0\n",
      "Variable: a18                  Importance: 0.0\n",
      "Variable: a19                  Importance: 0.0\n",
      "Variable: a20                  Importance: 0.0\n",
      "Variable: a21                  Importance: 0.0\n",
      "Variable: a22                  Importance: 0.0\n",
      "Variable: a23                  Importance: 0.0\n",
      "Variable: a24                  Importance: 0.0\n",
      "Variable: a25                  Importance: 0.0\n",
      "Variable: a26                  Importance: 0.0\n",
      "Variable: a27                  Importance: 0.0\n",
      "Variable: a28                  Importance: 0.0\n",
      "Variable: p17                  Importance: 0.0\n",
      "Variable: p18                  Importance: 0.0\n",
      "Variable: p19                  Importance: 0.0\n",
      "Variable: p20                  Importance: 0.0\n",
      "Variable: p21                  Importance: 0.0\n",
      "Variable: p22                  Importance: 0.0\n",
      "Variable: p23                  Importance: 0.0\n",
      "Variable: p24                  Importance: 0.0\n",
      "Variable: p25                  Importance: 0.0\n",
      "Variable: p26                  Importance: 0.0\n",
      "Variable: p27                  Importance: 0.0\n",
      "Variable: p28                  Importance: 0.0\n"
     ]
    }
   ],
   "source": [
    "importances = list(model.feature_importances_)\n",
    "feature_importances = [(feature, round(importance, 4)) \\\n",
    "                       for feature, importance in zip(col_list, importances)]\n",
    "feature_importances = sorted(feature_importances, key = lambda x: x[1], reverse = True)\n",
    "[print('Variable: {:20} Importance: {}'.format(*pair)) for pair in feature_importances];"
   ]
  },
  {
   "cell_type": "code",
   "execution_count": 400,
   "metadata": {},
   "outputs": [],
   "source": [
    "tree = model.estimators_[5]\n",
    "export_graphviz(tree, out_file = 'tree.dot', feature_names = col_list, rounded = True, precision = 1)"
   ]
  },
  {
   "cell_type": "code",
   "execution_count": null,
   "metadata": {},
   "outputs": [],
   "source": []
  },
  {
   "cell_type": "code",
   "execution_count": null,
   "metadata": {},
   "outputs": [],
   "source": []
  }
 ],
 "metadata": {
  "kernelspec": {
   "display_name": "Python 3",
   "language": "python",
   "name": "python3"
  },
  "language_info": {
   "codemirror_mode": {
    "name": "ipython",
    "version": 3
   },
   "file_extension": ".py",
   "mimetype": "text/x-python",
   "name": "python",
   "nbconvert_exporter": "python",
   "pygments_lexer": "ipython3",
   "version": "3.6.4"
  }
 },
 "nbformat": 4,
 "nbformat_minor": 2
}
